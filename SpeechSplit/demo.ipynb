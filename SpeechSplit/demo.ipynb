{
 "cells": [
  {
   "cell_type": "code",
   "execution_count": 1,
   "source": [
    "# demo conversion\n",
    "import torch\n",
    "import pickle\n",
    "import numpy as np\n",
    "from hparams import hparams\n",
    "from utils import pad_seq_to_2\n",
    "from utils import quantize_f0_numpy\n",
    "from model import Generator_3 as Generator\n",
    "from model import Generator_6 as F0_Converter\n",
    "\n",
    "torch.cuda.empty_cache()\n",
    "if torch.cuda.is_available():\n",
    "    device = 'cuda' \n",
    "    \n",
    "else:\n",
    "    device = 'cpu'\n",
    "\n",
    "print(str(device))\n",
    "\n",
    "G = Generator(hparams).eval().to(device)\n",
    "g_checkpoint = torch.load('assets/660000-G.ckpt', map_location=lambda storage, loc: storage)\n",
    "G.load_state_dict(g_checkpoint['model'])\n",
    "\n",
    "P = F0_Converter(hparams).eval().to(device)\n",
    "p_checkpoint = torch.load('assets/640000-P.ckpt', map_location=lambda storage, loc: storage)\n",
    "P.load_state_dict(p_checkpoint['model'])\n",
    "\n",
    "\n",
    "metadata = pickle.load(open('assets/demo.pkl', \"rb\"))\n",
    "\n",
    "\n",
    "sbmt_i = metadata[0]\n",
    "emb_org = torch.from_numpy(sbmt_i[1]).to(device)\n",
    "x_org, f0_org, len_org, uid_org = sbmt_i[2]        \n",
    "uttr_org_pad = pad_seq_to_2(x_org[np.newaxis,:,:], 192)\n",
    "uttr_org_pad = torch.from_numpy(uttr_org_pad).to(device)\n",
    "f0_org_pad = np.pad(f0_org, (0, 192-len_org), 'constant', constant_values=(0, 0))\n",
    "f0_org_quantized = quantize_f0_numpy(f0_org_pad)[0]\n",
    "f0_org_onehot = f0_org_quantized[np.newaxis, :, :]\n",
    "f0_org_onehot = torch.from_numpy(f0_org_onehot).to(device)\n",
    "uttr_f0_org = torch.cat((uttr_org_pad, f0_org_onehot), dim=-1)\n",
    "\n",
    "sbmt_j = metadata[1]\n",
    "emb_trg = torch.from_numpy(sbmt_j[1]).to(device)\n",
    "x_trg, f0_trg, len_trg, uid_trg = sbmt_j[2]        \n",
    "uttr_trg_pad = pad_seq_to_2(x_trg[np.newaxis,:,:], 192)\n",
    "uttr_trg_pad = torch.from_numpy(uttr_trg_pad).to(device)\n",
    "f0_trg_pad = np.pad(f0_trg, (0, 192-len_trg), 'constant', constant_values=(0, 0))\n",
    "f0_trg_quantized = quantize_f0_numpy(f0_trg_pad)[0]\n",
    "f0_trg_onehot = f0_trg_quantized[np.newaxis, :, :]\n",
    "f0_trg_onehot = torch.from_numpy(f0_trg_onehot).to(device)\n",
    "\n",
    "with torch.no_grad():\n",
    "    f0_pred = P(uttr_org_pad, f0_trg_onehot)[0]\n",
    "    f0_pred_quantized = f0_pred.argmax(dim=-1).squeeze(0)\n",
    "    f0_con_onehot = torch.zeros((1, 192, 257), device=device)\n",
    "    f0_con_onehot[0, torch.arange(192), f0_pred_quantized] = 1\n",
    "uttr_f0_trg = torch.cat((uttr_org_pad, f0_con_onehot), dim=-1)    \n",
    "\n",
    "\n",
    "conditions = ['R', 'F', 'U', 'RF', 'RU', 'FU', 'RFU']\n",
    "spect_vc = []\n",
    "with torch.no_grad():\n",
    "    for condition in conditions:\n",
    "        if condition == 'R':\n",
    "            x_identic_val = G(uttr_f0_org, uttr_trg_pad, emb_org)\n",
    "        elif condition == 'F':\n",
    "            x_identic_val = G(uttr_f0_trg, uttr_org_pad, emb_org)\n",
    "        elif condition == 'U':\n",
    "            x_identic_val = G(uttr_f0_org, uttr_org_pad, emb_trg)\n",
    "        elif condition == 'RF':\n",
    "            x_identic_val = G(uttr_f0_trg, uttr_trg_pad, emb_org)\n",
    "        elif condition == 'RU':\n",
    "            x_identic_val = G(uttr_f0_org, uttr_trg_pad, emb_trg)\n",
    "        elif condition == 'FU':\n",
    "            x_identic_val = G(uttr_f0_trg, uttr_org_pad, emb_trg)\n",
    "        elif condition == 'RFU':\n",
    "            x_identic_val = G(uttr_f0_trg, uttr_trg_pad, emb_trg)\n",
    "            \n",
    "        if 'R' in condition:\n",
    "            uttr_trg = x_identic_val[0, :len_trg, :].cpu().numpy()\n",
    "        else:\n",
    "            uttr_trg = x_identic_val[0, :len_org, :].cpu().numpy()\n",
    "                \n",
    "        spect_vc.append( ('{}_{}_{}_{}'.format(sbmt_i[0], sbmt_j[0], uid_org, condition), uttr_trg ) )       "
   ],
   "outputs": [
    {
     "output_type": "stream",
     "name": "stdout",
     "text": [
      "cuda\n"
     ]
    }
   ],
   "metadata": {}
  },
  {
   "cell_type": "code",
   "execution_count": 1,
   "source": [
    "import pickle\n",
    "outfile = open(\"spectrograms.pkl\", 'wb')\n",
    "pickle.dump(spect_vc, outfile)"
   ],
   "outputs": [
    {
     "output_type": "error",
     "ename": "NameError",
     "evalue": "name 'spect_vc' is not defined",
     "traceback": [
      "\u001b[0;31m---------------------------------------------------------------------------\u001b[0m",
      "\u001b[0;31mNameError\u001b[0m                                 Traceback (most recent call last)",
      "\u001b[0;32m<ipython-input-1-014c79b2a429>\u001b[0m in \u001b[0;36m<module>\u001b[0;34m\u001b[0m\n\u001b[1;32m      2\u001b[0m \u001b[0;32mimport\u001b[0m \u001b[0mpickle\u001b[0m\u001b[0;34m\u001b[0m\u001b[0;34m\u001b[0m\u001b[0m\n\u001b[1;32m      3\u001b[0m \u001b[0moutfile\u001b[0m \u001b[0;34m=\u001b[0m \u001b[0mopen\u001b[0m\u001b[0;34m(\u001b[0m\u001b[0;34m\"spectrograms.pkl\"\u001b[0m\u001b[0;34m,\u001b[0m \u001b[0;34m'wb'\u001b[0m\u001b[0;34m)\u001b[0m\u001b[0;34m\u001b[0m\u001b[0;34m\u001b[0m\u001b[0m\n\u001b[0;32m----> 4\u001b[0;31m \u001b[0mpickle\u001b[0m\u001b[0;34m.\u001b[0m\u001b[0mdump\u001b[0m\u001b[0;34m(\u001b[0m\u001b[0mspect_vc\u001b[0m\u001b[0;34m,\u001b[0m \u001b[0moutfile\u001b[0m\u001b[0;34m)\u001b[0m\u001b[0;34m\u001b[0m\u001b[0;34m\u001b[0m\u001b[0m\n\u001b[0m",
      "\u001b[0;31mNameError\u001b[0m: name 'spect_vc' is not defined"
     ]
    }
   ],
   "metadata": {}
  },
  {
   "cell_type": "code",
   "execution_count": 2,
   "source": [
    "# spectrogram to waveform\n",
    "import torch\n",
    "import soundfile\n",
    "import os\n",
    "from synthesis import build_model\n",
    "from synthesis import wavegen\n",
    "\n",
    "if not os.path.exists('results'):\n",
    "    os.makedirs('results')\n",
    "\n",
    "model = build_model().to(device)\n",
    "checkpoint = torch.load(\"assets/checkpoint_step001000000_ema.pth\", map_location=torch.device(device))\n",
    "model.load_state_dict(checkpoint[\"state_dict\"])\n",
    "\n",
    "for spect in spect_vc:\n",
    "    name = spect[0]\n",
    "    c = spect[1]\n",
    "    print(name)\n",
    "    waveform = wavegen(model, c=c)   \n",
    "    soundfile.write('results/'+name+'.wav', waveform, samplerate=16000)"
   ],
   "outputs": [
    {
     "output_type": "stream",
     "name": "stderr",
     "text": [
      "  0%|          | 0/26880 [00:00<?, ?it/s]p226_p231_003002_R\n",
      "100%|██████████| 26880/26880 [03:30<00:00, 127.78it/s]\n",
      "  0%|          | 0/34560 [00:00<?, ?it/s]p226_p231_003002_F\n",
      "100%|██████████| 34560/34560 [04:27<00:00, 129.39it/s]\n",
      "  0%|          | 0/34560 [00:00<?, ?it/s]p226_p231_003002_U\n",
      "  2%|▏         | 647/34560 [00:05<04:52, 115.81it/s]\n"
     ]
    },
    {
     "output_type": "error",
     "ename": "KeyboardInterrupt",
     "evalue": "",
     "traceback": [
      "\u001b[0;31m---------------------------------------------------------------------------\u001b[0m",
      "\u001b[0;31mKeyboardInterrupt\u001b[0m                         Traceback (most recent call last)",
      "\u001b[0;32m<ipython-input-2-0b21f8b9ad8f>\u001b[0m in \u001b[0;36m<module>\u001b[0;34m\u001b[0m\n\u001b[1;32m     17\u001b[0m     \u001b[0mc\u001b[0m \u001b[0;34m=\u001b[0m \u001b[0mspect\u001b[0m\u001b[0;34m[\u001b[0m\u001b[0;36m1\u001b[0m\u001b[0;34m]\u001b[0m\u001b[0;34m\u001b[0m\u001b[0;34m\u001b[0m\u001b[0m\n\u001b[1;32m     18\u001b[0m     \u001b[0mprint\u001b[0m\u001b[0;34m(\u001b[0m\u001b[0mname\u001b[0m\u001b[0;34m)\u001b[0m\u001b[0;34m\u001b[0m\u001b[0;34m\u001b[0m\u001b[0m\n\u001b[0;32m---> 19\u001b[0;31m     \u001b[0mwaveform\u001b[0m \u001b[0;34m=\u001b[0m \u001b[0mwavegen\u001b[0m\u001b[0;34m(\u001b[0m\u001b[0mmodel\u001b[0m\u001b[0;34m,\u001b[0m \u001b[0mc\u001b[0m\u001b[0;34m=\u001b[0m\u001b[0mc\u001b[0m\u001b[0;34m)\u001b[0m\u001b[0;34m\u001b[0m\u001b[0;34m\u001b[0m\u001b[0m\n\u001b[0m\u001b[1;32m     20\u001b[0m     \u001b[0msoundfile\u001b[0m\u001b[0;34m.\u001b[0m\u001b[0mwrite\u001b[0m\u001b[0;34m(\u001b[0m\u001b[0;34m'results/'\u001b[0m\u001b[0;34m+\u001b[0m\u001b[0mname\u001b[0m\u001b[0;34m+\u001b[0m\u001b[0;34m'.wav'\u001b[0m\u001b[0;34m,\u001b[0m \u001b[0mwaveform\u001b[0m\u001b[0;34m,\u001b[0m \u001b[0msamplerate\u001b[0m\u001b[0;34m=\u001b[0m\u001b[0;36m16000\u001b[0m\u001b[0;34m)\u001b[0m\u001b[0;34m\u001b[0m\u001b[0;34m\u001b[0m\u001b[0m\n",
      "\u001b[0;32m~/OneDrive/modules/individualProject/voiceChanger/existingProjects/SpeechSplit/synthesis.py\u001b[0m in \u001b[0;36mwavegen\u001b[0;34m(model, c, tqdm)\u001b[0m\n\u001b[1;32m     66\u001b[0m \u001b[0;34m\u001b[0m\u001b[0m\n\u001b[1;32m     67\u001b[0m     \u001b[0;32mwith\u001b[0m \u001b[0mtorch\u001b[0m\u001b[0;34m.\u001b[0m\u001b[0mno_grad\u001b[0m\u001b[0;34m(\u001b[0m\u001b[0;34m)\u001b[0m\u001b[0;34m:\u001b[0m\u001b[0;34m\u001b[0m\u001b[0;34m\u001b[0m\u001b[0m\n\u001b[0;32m---> 68\u001b[0;31m         y_hat = model.incremental_forward(\n\u001b[0m\u001b[1;32m     69\u001b[0m             \u001b[0minitial_input\u001b[0m\u001b[0;34m,\u001b[0m \u001b[0mc\u001b[0m\u001b[0;34m=\u001b[0m\u001b[0mc\u001b[0m\u001b[0;34m,\u001b[0m \u001b[0mg\u001b[0m\u001b[0;34m=\u001b[0m\u001b[0;32mNone\u001b[0m\u001b[0;34m,\u001b[0m \u001b[0mT\u001b[0m\u001b[0;34m=\u001b[0m\u001b[0mlength\u001b[0m\u001b[0;34m,\u001b[0m \u001b[0mtqdm\u001b[0m\u001b[0;34m=\u001b[0m\u001b[0mtqdm\u001b[0m\u001b[0;34m,\u001b[0m \u001b[0msoftmax\u001b[0m\u001b[0;34m=\u001b[0m\u001b[0;32mTrue\u001b[0m\u001b[0;34m,\u001b[0m \u001b[0mquantize\u001b[0m\u001b[0;34m=\u001b[0m\u001b[0;32mTrue\u001b[0m\u001b[0;34m,\u001b[0m\u001b[0;34m\u001b[0m\u001b[0;34m\u001b[0m\u001b[0m\n\u001b[1;32m     70\u001b[0m             log_scale_min=hparams.log_scale_min)\n",
      "\u001b[0;32m~/anaconda3/envs/pytorch/lib/python3.9/site-packages/wavenet_vocoder/wavenet.py\u001b[0m in \u001b[0;36mincremental_forward\u001b[0;34m(self, initial_input, c, g, T, test_inputs, tqdm, softmax, quantize, log_scale_min)\u001b[0m\n\u001b[1;32m    350\u001b[0m             \u001b[0;31m# Generate next input by sampling\u001b[0m\u001b[0;34m\u001b[0m\u001b[0;34m\u001b[0m\u001b[0;34m\u001b[0m\u001b[0m\n\u001b[1;32m    351\u001b[0m             \u001b[0;32mif\u001b[0m \u001b[0mself\u001b[0m\u001b[0;34m.\u001b[0m\u001b[0mscalar_input\u001b[0m\u001b[0;34m:\u001b[0m\u001b[0;34m\u001b[0m\u001b[0;34m\u001b[0m\u001b[0m\n\u001b[0;32m--> 352\u001b[0;31m                 x = sample_from_discretized_mix_logistic(\n\u001b[0m\u001b[1;32m    353\u001b[0m                     x.view(B, -1, 1), log_scale_min=log_scale_min)\n\u001b[1;32m    354\u001b[0m             \u001b[0;32melse\u001b[0m\u001b[0;34m:\u001b[0m\u001b[0;34m\u001b[0m\u001b[0;34m\u001b[0m\u001b[0m\n",
      "\u001b[0;32m~/anaconda3/envs/pytorch/lib/python3.9/site-packages/wavenet_vocoder/mixture.py\u001b[0m in \u001b[0;36msample_from_discretized_mix_logistic\u001b[0;34m(y, log_scale_min)\u001b[0m\n\u001b[1;32m    139\u001b[0m \u001b[0;34m\u001b[0m\u001b[0m\n\u001b[1;32m    140\u001b[0m     \u001b[0;31m# (B, T) -> (B, T, nr_mix)\u001b[0m\u001b[0;34m\u001b[0m\u001b[0;34m\u001b[0m\u001b[0;34m\u001b[0m\u001b[0m\n\u001b[0;32m--> 141\u001b[0;31m     \u001b[0mone_hot\u001b[0m \u001b[0;34m=\u001b[0m \u001b[0mto_one_hot\u001b[0m\u001b[0;34m(\u001b[0m\u001b[0margmax\u001b[0m\u001b[0;34m,\u001b[0m \u001b[0mnr_mix\u001b[0m\u001b[0;34m)\u001b[0m\u001b[0;34m\u001b[0m\u001b[0;34m\u001b[0m\u001b[0m\n\u001b[0m\u001b[1;32m    142\u001b[0m     \u001b[0;31m# select logistic parameters\u001b[0m\u001b[0;34m\u001b[0m\u001b[0;34m\u001b[0m\u001b[0;34m\u001b[0m\u001b[0m\n\u001b[1;32m    143\u001b[0m     \u001b[0mmeans\u001b[0m \u001b[0;34m=\u001b[0m \u001b[0mtorch\u001b[0m\u001b[0;34m.\u001b[0m\u001b[0msum\u001b[0m\u001b[0;34m(\u001b[0m\u001b[0my\u001b[0m\u001b[0;34m[\u001b[0m\u001b[0;34m:\u001b[0m\u001b[0;34m,\u001b[0m \u001b[0;34m:\u001b[0m\u001b[0;34m,\u001b[0m \u001b[0mnr_mix\u001b[0m\u001b[0;34m:\u001b[0m\u001b[0;36m2\u001b[0m \u001b[0;34m*\u001b[0m \u001b[0mnr_mix\u001b[0m\u001b[0;34m]\u001b[0m \u001b[0;34m*\u001b[0m \u001b[0mone_hot\u001b[0m\u001b[0;34m,\u001b[0m \u001b[0mdim\u001b[0m\u001b[0;34m=\u001b[0m\u001b[0;34m-\u001b[0m\u001b[0;36m1\u001b[0m\u001b[0;34m)\u001b[0m\u001b[0;34m\u001b[0m\u001b[0;34m\u001b[0m\u001b[0m\n",
      "\u001b[0;32m~/anaconda3/envs/pytorch/lib/python3.9/site-packages/wavenet_vocoder/mixture.py\u001b[0m in \u001b[0;36mto_one_hot\u001b[0;34m(tensor, n, fill_with)\u001b[0m\n\u001b[1;32m    110\u001b[0m     \u001b[0mone_hot\u001b[0m \u001b[0;34m=\u001b[0m \u001b[0mtorch\u001b[0m\u001b[0;34m.\u001b[0m\u001b[0mFloatTensor\u001b[0m\u001b[0;34m(\u001b[0m\u001b[0mtensor\u001b[0m\u001b[0;34m.\u001b[0m\u001b[0msize\u001b[0m\u001b[0;34m(\u001b[0m\u001b[0;34m)\u001b[0m \u001b[0;34m+\u001b[0m \u001b[0;34m(\u001b[0m\u001b[0mn\u001b[0m\u001b[0;34m,\u001b[0m\u001b[0;34m)\u001b[0m\u001b[0;34m)\u001b[0m\u001b[0;34m.\u001b[0m\u001b[0mzero_\u001b[0m\u001b[0;34m(\u001b[0m\u001b[0;34m)\u001b[0m\u001b[0;34m\u001b[0m\u001b[0;34m\u001b[0m\u001b[0m\n\u001b[1;32m    111\u001b[0m     \u001b[0;32mif\u001b[0m \u001b[0mtensor\u001b[0m\u001b[0;34m.\u001b[0m\u001b[0mis_cuda\u001b[0m\u001b[0;34m:\u001b[0m\u001b[0;34m\u001b[0m\u001b[0;34m\u001b[0m\u001b[0m\n\u001b[0;32m--> 112\u001b[0;31m         \u001b[0mone_hot\u001b[0m \u001b[0;34m=\u001b[0m \u001b[0mone_hot\u001b[0m\u001b[0;34m.\u001b[0m\u001b[0mcuda\u001b[0m\u001b[0;34m(\u001b[0m\u001b[0;34m)\u001b[0m\u001b[0;34m\u001b[0m\u001b[0;34m\u001b[0m\u001b[0m\n\u001b[0m\u001b[1;32m    113\u001b[0m     \u001b[0mone_hot\u001b[0m\u001b[0;34m.\u001b[0m\u001b[0mscatter_\u001b[0m\u001b[0;34m(\u001b[0m\u001b[0mlen\u001b[0m\u001b[0;34m(\u001b[0m\u001b[0mtensor\u001b[0m\u001b[0;34m.\u001b[0m\u001b[0msize\u001b[0m\u001b[0;34m(\u001b[0m\u001b[0;34m)\u001b[0m\u001b[0;34m)\u001b[0m\u001b[0;34m,\u001b[0m \u001b[0mtensor\u001b[0m\u001b[0;34m.\u001b[0m\u001b[0munsqueeze\u001b[0m\u001b[0;34m(\u001b[0m\u001b[0;34m-\u001b[0m\u001b[0;36m1\u001b[0m\u001b[0;34m)\u001b[0m\u001b[0;34m,\u001b[0m \u001b[0mfill_with\u001b[0m\u001b[0;34m)\u001b[0m\u001b[0;34m\u001b[0m\u001b[0;34m\u001b[0m\u001b[0m\n\u001b[1;32m    114\u001b[0m     \u001b[0;32mreturn\u001b[0m \u001b[0mone_hot\u001b[0m\u001b[0;34m\u001b[0m\u001b[0;34m\u001b[0m\u001b[0m\n",
      "\u001b[0;31mKeyboardInterrupt\u001b[0m: "
     ]
    }
   ],
   "metadata": {}
  },
  {
   "cell_type": "code",
   "execution_count": null,
   "source": [
    "import pickle\n",
    "outfile = open(\"spectrograms.pkl\", 'rb')\n",
    "pickle.dump(spect_vc, outfile)"
   ],
   "outputs": [],
   "metadata": {}
  }
 ],
 "metadata": {
  "kernelspec": {
   "name": "python391jvsc74a57bd0de58ec3009308919e386cf1789aade0e2a0593f0e425bdf0fd019d2632db8e3d",
   "display_name": "Python 3.9.1 64-bit ('pytorch': conda)"
  },
  "language_info": {
   "codemirror_mode": {
    "name": "ipython",
    "version": 3
   },
   "file_extension": ".py",
   "mimetype": "text/x-python",
   "name": "python",
   "nbconvert_exporter": "python",
   "pygments_lexer": "ipython3",
   "version": "3.9.1-final"
  }
 },
 "nbformat": 4,
 "nbformat_minor": 4
}